{
  "nbformat": 4,
  "nbformat_minor": 0,
  "metadata": {
    "colab": {
      "provenance": [],
      "authorship_tag": "ABX9TyML7T4FsKspNIXNpTW7Ilq7",
      "include_colab_link": true
    },
    "kernelspec": {
      "name": "python3",
      "display_name": "Python 3"
    },
    "language_info": {
      "name": "python"
    }
  },
  "cells": [
    {
      "cell_type": "markdown",
      "metadata": {
        "id": "view-in-github",
        "colab_type": "text"
      },
      "source": [
        "<a href=\"https://colab.research.google.com/github/Areeff10/travelling_plan_assistant-/blob/main/travelling_plan_assistant.ipynb\" target=\"_parent\"><img src=\"https://colab.research.google.com/assets/colab-badge.svg\" alt=\"Open In Colab\"/></a>"
      ]
    },
    {
      "cell_type": "code",
      "execution_count": 33,
      "metadata": {
        "id": "MvvOeeESF1CT"
      },
      "outputs": [],
      "source": [
        "import os\n",
        "from typing import TypedDict, Annotated, List\n",
        "from langgraph.graph import StateGraph, END\n",
        "from langchain_core.messages import HumanMessage, AIMessage\n",
        "from langchain_core.prompts import ChatPromptTemplate\n",
        "from langchain_google_genai import ChatGoogleGenerativeAI\n",
        "from langchain_core.runnables.graph import MermaidDrawMethod\n",
        "from IPython.display import display, Image"
      ]
    },
    {
      "cell_type": "code",
      "source": [
        "from google.colab import userdata\n",
        "GOOGLE_API_KEY=userdata.get('GOOGLE_API_KEY')"
      ],
      "metadata": {
        "id": "X04Rt8uetYQy"
      },
      "execution_count": 34,
      "outputs": []
    },
    {
      "cell_type": "code",
      "source": [
        "llm=ChatGoogleGenerativeAI(model=\"gemini-1.5-flash\",convert_system_message_to_human=True, api_key=GOOGLE_API_KEY,temperature = 0.1)"
      ],
      "metadata": {
        "id": "QteG-wRutClf"
      },
      "execution_count": 35,
      "outputs": []
    },
    {
      "cell_type": "code",
      "source": [
        "llm.invoke('Hello how are you').content"
      ],
      "metadata": {
        "colab": {
          "base_uri": "https://localhost:8080/",
          "height": 70
        },
        "id": "081MRtHdtdpm",
        "outputId": "a41ad95c-96a5-4e9e-bf29-8b80aa6f19de"
      },
      "execution_count": 36,
      "outputs": [
        {
          "output_type": "stream",
          "name": "stderr",
          "text": [
            "/usr/local/lib/python3.11/dist-packages/langchain_google_genai/chat_models.py:365: UserWarning: Convert_system_message_to_human will be deprecated!\n",
            "  warnings.warn(\"Convert_system_message_to_human will be deprecated!\")\n"
          ]
        },
        {
          "output_type": "execute_result",
          "data": {
            "text/plain": [
              "'I am doing well, thank you for asking!  How are you today?'"
            ],
            "application/vnd.google.colaboratory.intrinsic+json": {
              "type": "string"
            }
          },
          "metadata": {},
          "execution_count": 36
        }
      ]
    },
    {
      "cell_type": "code",
      "source": [
        "class PlannerState(TypedDict):\n",
        "  messages : Annotated[List[HumanMessage | AIMessage], \"the messages in the conversation\"]\n",
        "  city: str\n",
        "  interests: List[str]\n",
        "  itinerary: str\n",
        "  suggestion : str"
      ],
      "metadata": {
        "id": "vvjuJVi7uIvB"
      },
      "execution_count": 37,
      "outputs": []
    },
    {
      "cell_type": "code",
      "source": [
        "def input_city(state):\n",
        "    print(\"==============================================================================================================================================\")\n",
        "    print(\"Please enter the city you want to visit for your day trip:\")\n",
        "    user_message = input(\"Your Input: \").strip()\n",
        "\n",
        "    if not user_message:\n",
        "        print(\"City cannot be empty. Please enter a valid city.\")\n",
        "        return input_city(state)\n",
        "\n",
        "    state[\"city\"] = user_message\n",
        "    state[\"messages\"].append(HumanMessage(content=user_message))\n",
        "\n",
        "    return state"
      ],
      "metadata": {
        "id": "GuJAduMmtmx8"
      },
      "execution_count": 38,
      "outputs": []
    },
    {
      "cell_type": "code",
      "source": [
        "def input_interest(state):\n",
        "    print(\"==============================================================================================================================================\")\n",
        "    print(f\"Please enter your interests for the trip to {state['city']} (comma-separated):\")\n",
        "    user_message = input(\"Your Input: \").strip()\n",
        "\n",
        "    if not user_message:\n",
        "        print(\"Interests cannot be empty. Please enter at least one interest.\")\n",
        "        return input_interest(state)\n",
        "\n",
        "    state[\"interests\"] = [interest.strip() for interest in user_message.split(\",\")]\n",
        "    state[\"messages\"].append(HumanMessage(content=user_message))\n",
        "\n",
        "    return state"
      ],
      "metadata": {
        "id": "9qytDxFwvokr"
      },
      "execution_count": 39,
      "outputs": []
    },
    {
      "cell_type": "code",
      "source": [
        "itinerary_prompt = ChatPromptTemplate.from_messages([\n",
        "    (\"system\", \"You are a helpful travel assistant. Create a trip itinerary for {city} based on the user's interests: {interests}. Provide a brief, bulleted itinerary.\"),\n",
        "    (\"human\", \"Create an itinerary for my day trip.\"),\n",
        "])"
      ],
      "metadata": {
        "id": "IM65ygUlxR03"
      },
      "execution_count": 40,
      "outputs": []
    },
    {
      "cell_type": "code",
      "source": [
        "def create_plan(state):\n",
        "    print(\"==============================================================================================================================================\")\n",
        "\n",
        "    formatted_prompt = itinerary_prompt.format(city=state[\"city\"], interests=\", \".join(state[\"interests\"]))\n",
        "    response = llm.invoke(formatted_prompt)\n",
        "    print(f\"Creating a plan for {state['city']} based on interests: {', '.join(state['interests'])}\")\n",
        "    print(\"\\nFinal Itinerary:\")\n",
        "    print(response.content)\n",
        "\n",
        "    state[\"messages\"].append(AIMessage(content=response.content))\n",
        "    state[\"itinerary\"] = response.content\n",
        "\n",
        "    return state"
      ],
      "metadata": {
        "id": "k04fbHtqwysi"
      },
      "execution_count": 41,
      "outputs": []
    },
    {
      "cell_type": "code",
      "source": [
        "suggestion_prompt = ChatPromptTemplate.from_messages([\n",
        "    (\"system\",\n",
        "     \"You are a helpful travel assistant. Provide a list of famous places to visit and popular restaurants in {city}. \"\n",
        "     \"Only suggest well-known attractions, landmarks, and highly-rated restaurants. Format your response as a concise, bulleted list.\"),\n",
        "    (\"human\", \"Give me famous places and restaurants to visit in {city}.\")\n",
        "])\n",
        "\n"
      ],
      "metadata": {
        "id": "W33U926-wAng"
      },
      "execution_count": 42,
      "outputs": []
    },
    {
      "cell_type": "code",
      "source": [
        "def suggestion_plan(state):\n",
        "    print(\"==============================================================================================================================================\")\n",
        "    formatted_prompt = suggestion_prompt.format(city=state[\"city\"])\n",
        "    response = llm.invoke(formatted_prompt)\n",
        "    print(f\"Creating a plan for {state['city']} based on interests: {', '.join(state['interests'])}\")\n",
        "    print(f\"More things to do in {state['city']}\")\n",
        "    print(\"\\nSuggestion:\")\n",
        "    print(response.content)\n",
        "\n",
        "    state[\"messages\"].append(AIMessage(content=response.content))\n",
        "    state[\"suggestion\"] = response.content\n",
        "\n",
        "    return state"
      ],
      "metadata": {
        "id": "8DZvjoPjx5iK"
      },
      "execution_count": 43,
      "outputs": []
    },
    {
      "cell_type": "code",
      "source": [
        "workflow = StateGraph(PlannerState)\n",
        "\n",
        "workflow.add_node(\"input_city\", input_city)\n",
        "workflow.add_node(\"input_interest\", input_interest)\n",
        "workflow.add_node(\"create_plan\", create_plan)\n",
        "workflow.add_node(\"trip_suggestion\", suggestion_plan)\n",
        "\n",
        "workflow.set_entry_point(\"input_city\")\n",
        "workflow.add_edge(\"input_city\", \"input_interest\")\n",
        "workflow.add_edge(\"input_interest\", \"create_plan\")\n",
        "workflow.add_edge(\"create_plan\", \"trip_suggestion\")\n",
        "workflow.add_edge(\"trip_suggestion\", END)\n",
        "\n",
        "app=workflow.compile()"
      ],
      "metadata": {
        "id": "B9MBikFoxtSV"
      },
      "execution_count": 44,
      "outputs": []
    },
    {
      "cell_type": "code",
      "source": [
        "display(Image(app.get_graph().draw_mermaid_png()))"
      ],
      "metadata": {
        "colab": {
          "base_uri": "https://localhost:8080/",
          "height": 548
        },
        "id": "bcBheBafzUhI",
        "outputId": "a2e8bc0f-2ac9-4b95-f2d9-844fb9b6ab58"
      },
      "execution_count": 45,
      "outputs": [
        {
          "output_type": "display_data",
          "data": {
            "image/png": "[encoded data removed]",
            "text/plain": [
              "<IPython.core.display.Image object>"
            ]
          },
          "metadata": {}
        }
      ]
    },
    {
      "cell_type": "code",
      "source": [
        "def travel_planner(user_request):\n",
        "    print(f\"Initial Request: {user_request}\\n\")\n",
        "\n",
        "    state = {\n",
        "        \"messages\": [HumanMessage(content=user_request)],\n",
        "        \"city\": \"\",\n",
        "        \"interests\": [],\n",
        "        \"itinerary\": \"\",\n",
        "    }\n",
        "\n",
        "    for _ in app.stream(state):\n",
        "        continue"
      ],
      "metadata": {
        "id": "n-jlX4g_0ABN"
      },
      "execution_count": 46,
      "outputs": []
    },
    {
      "cell_type": "code",
      "source": [
        "user_request = \"I want to plan a day trip\"\n",
        "travel_planner(user_request)"
      ],
      "metadata": {
        "colab": {
          "base_uri": "https://localhost:8080/"
        },
        "id": "thlGcsT-2FIu",
        "outputId": "a4738bbe-341a-4e7f-e25e-6189f5c6c818"
      },
      "execution_count": 47,
      "outputs": [
        {
          "output_type": "stream",
          "name": "stdout",
          "text": [
            "Initial Request: I want to plan a day trip\n",
            "\n",
            "==============================================================================================================================================\n",
            "Please enter the city you want to visit for your day trip:\n",
            "Your Input: Mumbai\n",
            "==============================================================================================================================================\n",
            "Please enter your interests for the trip to Mumbai (comma-separated):\n",
            "Your Input: Worli Sea Link , Juhu Beach, Chowpatty Beach\n",
            "==============================================================================================================================================\n"
          ]
        },
        {
          "output_type": "stream",
          "name": "stderr",
          "text": [
            "/usr/local/lib/python3.11/dist-packages/langchain_google_genai/chat_models.py:365: UserWarning: Convert_system_message_to_human will be deprecated!\n",
            "  warnings.warn(\"Convert_system_message_to_human will be deprecated!\")\n"
          ]
        },
        {
          "output_type": "stream",
          "name": "stdout",
          "text": [
            "Creating a plan for Mumbai based on interests: Worli Sea Link, Juhu Beach, Chowpatty Beach\n",
            "\n",
            "Final Itinerary:\n",
            "## Mumbai Day Trip: Beaches & Sea Link\n",
            "\n",
            "This itinerary focuses on Worli Sea Link, Juhu Beach, and Chowpatty Beach, prioritizing efficient travel.  Adjust timings based on your arrival and departure times.\n",
            "\n",
            "**Morning (8:00 AM - 12:00 PM):**\n",
            "\n",
            "* **8:00 AM - 9:00 AM:** Start your day with breakfast at a local eatery near your starting point.  Consider a quick and tasty vada pav or a South Indian breakfast.\n",
            "* **9:00 AM - 10:30 AM:** Head to the Worli Sea Link. Take photos and enjoy the stunning views of the Arabian Sea and the city skyline. Consider a taxi or ride-sharing service for efficient travel.\n",
            "* **10:30 AM - 12:00 PM:** Travel to Juhu Beach.  Enjoy the beach atmosphere, street food, and perhaps a quick stroll.\n",
            "\n",
            "**Afternoon (12:00 PM - 4:00 PM):**\n",
            "\n",
            "* **12:00 PM - 1:00 PM:** Lunch at Juhu Beach. Many stalls offer a variety of delicious street food options.\n",
            "* **1:00 PM - 2:30 PM:** Relax on Juhu Beach or explore the shops and stalls along the promenade.\n",
            "* **2:30 PM - 4:00 PM:** Travel to Chowpatty Beach.  Enjoy the beach, watch street performers, and soak in the vibrant atmosphere.\n",
            "\n",
            "**Evening (4:00 PM onwards):**\n",
            "\n",
            "* **4:00 PM - 5:00 PM:** Enjoy the sunset at Chowpatty Beach.\n",
            "* **5:00 PM onwards:**  Depart from Chowpatty Beach, heading to your next destination or back to your accommodation.  Consider grabbing some Pani Puri or Bhel Puri before leaving.\n",
            "\n",
            "\n",
            "**Note:** Travel time between locations can vary depending on traffic.  Using ride-sharing apps or taxis is recommended for efficient travel.  This itinerary is a suggestion and can be customized to your preferences and time constraints.\n",
            "==============================================================================================================================================\n"
          ]
        },
        {
          "output_type": "stream",
          "name": "stderr",
          "text": [
            "/usr/local/lib/python3.11/dist-packages/langchain_google_genai/chat_models.py:365: UserWarning: Convert_system_message_to_human will be deprecated!\n",
            "  warnings.warn(\"Convert_system_message_to_human will be deprecated!\")\n"
          ]
        },
        {
          "output_type": "stream",
          "name": "stdout",
          "text": [
            "Creating a plan for Mumbai based on interests: Worli Sea Link, Juhu Beach, Chowpatty Beach\n",
            "More things to do in Mumbai\n",
            "\n",
            "Suggestion:\n",
            "**Famous Places:**\n",
            "\n",
            "* Gateway of India\n",
            "* Chhatrapati Shivaji Maharaj Terminus (CST)\n",
            "* Marine Drive\n",
            "* Dhobi Ghat\n",
            "* Mani Bhavan Gandhi Museum\n",
            "* Siddhivinayak Temple\n",
            "* Elephanta Caves (requires ferry)\n",
            "* Kanheri Caves (Sanjay Gandhi National Park)\n",
            "\n",
            "\n",
            "**Popular Restaurants:**\n",
            "\n",
            "* **Seafood:** Gajalee (multiple locations), Mahesh Lunch Home\n",
            "* **Indian Fine Dining:**  The Oberoi, The Taj Mahal Palace (various restaurants within)\n",
            "* **Street Food:** Mohammed Ali Road (for Mughlai cuisine, especially during Ramadan),  various stalls around Chowpatty Beach\n",
            "* **International Cuisine:**  Wasabi by Morimoto (Japanese),  Olive Bar & Kitchen (Mediterranean)\n",
            "\n",
            "\n",
            "**Note:**  Restaurant popularity and ratings can change, so checking recent reviews before visiting is recommended.\n"
          ]
        }
      ]
    }
  ]
}